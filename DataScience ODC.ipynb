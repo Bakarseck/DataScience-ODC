{
 "cells": [
  {
   "cell_type": "code",
   "execution_count": 2,
   "id": "9ed1b129",
   "metadata": {},
   "outputs": [],
   "source": [
    "import numpy as np"
   ]
  },
  {
   "cell_type": "code",
   "execution_count": 3,
   "id": "eeed0f21",
   "metadata": {},
   "outputs": [],
   "source": [
    "distances = [10, 15, 17, 20]\n",
    "temps = [0.3, 0.47, 0.55, 1.20, 1.0]\n",
    "distances = np.array(distances)\n",
    "temps = np.array(temps)"
   ]
  },
  {
   "cell_type": "code",
   "execution_count": 4,
   "id": "df2e897d",
   "metadata": {},
   "outputs": [
    {
     "name": "stdout",
     "output_type": "stream",
     "text": [
      "La moyenne est 20, le minimum est 10, la somme de toutes les distances est 62\n"
     ]
    }
   ],
   "source": [
    "print(f\"La moyenne est {distances.max()}, le minimum est {distances.min()}, la somme de toutes les distances est {distances.sum()}\")"
   ]
  },
  {
   "cell_type": "code",
   "execution_count": 5,
   "id": "e92015b1",
   "metadata": {},
   "outputs": [
    {
     "data": {
      "text/plain": [
       "array([[ 1,  4,  6],\n",
       "       [ 8,  9, 10],\n",
       "       [11,  0,  1]])"
      ]
     },
     "execution_count": 5,
     "metadata": {},
     "output_type": "execute_result"
    }
   ],
   "source": [
    "matrice = np.array([ [1, 4, 6], [8, 9, 10], [11, 0, 1] ])\n",
    "matrice"
   ]
  },
  {
   "cell_type": "code",
   "execution_count": 6,
   "id": "1587a469",
   "metadata": {},
   "outputs": [
    {
     "data": {
      "text/plain": [
       "10"
      ]
     },
     "execution_count": 6,
     "metadata": {},
     "output_type": "execute_result"
    }
   ],
   "source": [
    "matrice[1][2]"
   ]
  },
  {
   "cell_type": "code",
   "execution_count": 7,
   "id": "242960ad",
   "metadata": {},
   "outputs": [
    {
     "data": {
      "text/plain": [
       "11"
      ]
     },
     "execution_count": 7,
     "metadata": {},
     "output_type": "execute_result"
    }
   ],
   "source": [
    "s = matrice.diagonal()\n",
    "s.sum()"
   ]
  },
  {
   "cell_type": "code",
   "execution_count": 8,
   "id": "565e554b",
   "metadata": {},
   "outputs": [
    {
     "data": {
      "text/plain": [
       "array([0, 0, 0, 0, 0, 0, 0, 0, 0, 0])"
      ]
     },
     "execution_count": 8,
     "metadata": {},
     "output_type": "execute_result"
    }
   ],
   "source": [
    "np.zeros(shape=(10), dtype=int) "
   ]
  },
  {
   "cell_type": "code",
   "execution_count": 9,
   "id": "1c8ee6d1",
   "metadata": {},
   "outputs": [
    {
     "name": "stdout",
     "output_type": "stream",
     "text": [
      "[1.76405235]\n"
     ]
    }
   ],
   "source": [
    "np.random.seed(0)\n",
    "print(np.random.randn(1))"
   ]
  },
  {
   "cell_type": "code",
   "execution_count": 12,
   "id": "a8a283a7",
   "metadata": {},
   "outputs": [
    {
     "name": "stdout",
     "output_type": "stream",
     "text": [
      "Give a number : 50\n",
      "Le nombre mystère est plus petit\n",
      "Give a number : 25\n",
      "Le nombre mystère est plus petit\n",
      "Give a number : 12\n",
      "Le nombre mystère est plus petit\n",
      "Give a number : 5\n",
      "Le nombre mystere est plus grand\n",
      "Give a number : 8\n",
      "Le nombre mystere est plus grand\n",
      "[10]\n"
     ]
    }
   ],
   "source": [
    "a = np.random.randint(1, 100, 1)\n",
    "for i in range(5):\n",
    "    c = int(input(\"Give a number : \"))\n",
    "    if c == a:\n",
    "        print(\"Bravo\")\n",
    "        break\n",
    "    elif c < a:\n",
    "        print(\"Le nombre mystere est plus grand\")\n",
    "    else:\n",
    "        print(\"Le nombre mystère est plus petit\")\n",
    "print(a)"
   ]
  }
 ],
 "metadata": {
  "kernelspec": {
   "display_name": "Python 3 (ipykernel)",
   "language": "python",
   "name": "python3"
  },
  "language_info": {
   "codemirror_mode": {
    "name": "ipython",
    "version": 3
   },
   "file_extension": ".py",
   "mimetype": "text/x-python",
   "name": "python",
   "nbconvert_exporter": "python",
   "pygments_lexer": "ipython3",
   "version": "3.9.13"
  }
 },
 "nbformat": 4,
 "nbformat_minor": 5
}
