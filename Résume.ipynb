{
 "cells": [
  {
   "cell_type": "markdown",
   "id": "0db70164",
   "metadata": {},
   "source": [
    "### Exercice"
   ]
  },
  {
   "cell_type": "markdown",
   "id": "93e290e6",
   "metadata": {},
   "source": [
    "Standardiser la matrice."
   ]
  },
  {
   "cell_type": "code",
   "execution_count": 2,
   "id": "276e53b9",
   "metadata": {},
   "outputs": [],
   "source": [
    "import numpy as np"
   ]
  },
  {
   "cell_type": "code",
   "execution_count": 3,
   "id": "5397e184",
   "metadata": {},
   "outputs": [
    {
     "data": {
      "text/plain": [
       "array([[44, 47, 64, 67, 67],\n",
       "       [ 9, 83, 21, 36, 87],\n",
       "       [70, 88, 88, 12, 58],\n",
       "       [65, 39, 87, 46, 88],\n",
       "       [81, 37, 25, 77, 72],\n",
       "       [ 9, 20, 80, 69, 79],\n",
       "       [47, 64, 82, 99, 88],\n",
       "       [49, 29, 19, 19, 14],\n",
       "       [39, 32, 65,  9, 57],\n",
       "       [32, 31, 74, 23, 35]])"
      ]
     },
     "execution_count": 3,
     "metadata": {},
     "output_type": "execute_result"
    }
   ],
   "source": [
    "np.random.seed(0)\n",
    "A = np.random.randint(0, 100, [10, 5])\n",
    "A"
   ]
  },
  {
   "cell_type": "code",
   "execution_count": 9,
   "id": "ae9c3537",
   "metadata": {},
   "outputs": [],
   "source": [
    "D = (A - A.mean(axis=0)) / A.std(axis=0)"
   ]
  },
  {
   "cell_type": "markdown",
   "id": "3414f4cf",
   "metadata": {},
   "source": [
    "- Comprendre le système d'axe\n",
    "- Comprendre shape et reshape\n",
    "- Comprendre concatenate\n",
    "\n",
    "#### Constructeurs\n",
    "np.array(objet, dtype)\n",
    "np.zeros((shape), dtype)\n",
    "np.ones((shape), dtype)\n",
    "np.random.randn(lignes, colonnes)\n",
    "\n",
    "### Manipulation\n",
    "A.reshape((shape))\n",
    "A.ravel()\n",
    "A.concatenate(axis)\n",
    "\n",
    "### Méthodes Utiles\n",
    "A.min(axis)\n",
    "A.max(axis)\n",
    "A.sum(axis)\n",
    "A.mean(axis)\n",
    "A.std(axis)\n",
    "\n",
    "### Boolean Indexing\n",
    "A[A<10]\n",
    "\n",
    "### Broadcasting !\n",
    "Vigilance !!!!!!"
   ]
  },
  {
   "cell_type": "code",
   "execution_count": null,
   "id": "91ed9370",
   "metadata": {},
   "outputs": [],
   "source": []
  }
 ],
 "metadata": {
  "kernelspec": {
   "display_name": "Python 3 (ipykernel)",
   "language": "python",
   "name": "python3"
  },
  "language_info": {
   "codemirror_mode": {
    "name": "ipython",
    "version": 3
   },
   "file_extension": ".py",
   "mimetype": "text/x-python",
   "name": "python",
   "nbconvert_exporter": "python",
   "pygments_lexer": "ipython3",
   "version": "3.9.13"
  }
 },
 "nbformat": 4,
 "nbformat_minor": 5
}
