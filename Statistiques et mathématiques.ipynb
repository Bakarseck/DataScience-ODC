{
 "cells": [
  {
   "cell_type": "code",
   "execution_count": 1,
   "id": "61e55c8e",
   "metadata": {},
   "outputs": [],
   "source": [
    "import numpy as np"
   ]
  },
  {
   "cell_type": "code",
   "execution_count": 4,
   "id": "eae44f70",
   "metadata": {},
   "outputs": [
    {
     "data": {
      "text/plain": [
       "array([[5, 0, 3],\n",
       "       [3, 7, 9]])"
      ]
     },
     "execution_count": 4,
     "metadata": {},
     "output_type": "execute_result"
    }
   ],
   "source": [
    "np.random.seed(0)\n",
    "A = np.random.randint(0, 10, [2, 3])\n",
    "A"
   ]
  },
  {
   "cell_type": "markdown",
   "id": "f8a00f16",
   "metadata": {},
   "source": [
    "## Méthodes ndarray"
   ]
  },
  {
   "cell_type": "code",
   "execution_count": 21,
   "id": "46e5611b",
   "metadata": {},
   "outputs": [],
   "source": [
    "sum_all = A.sum()\n",
    "sum_vertical = A.sum(axis=0) \n",
    "sum_horizontal = A.sum(axis=1)\n",
    "sum_cumul = A.cumsum()\n",
    "min = A.min()\n",
    "max = A.max()\n",
    "pos_min = A.argmin(axis=1)\n",
    "pos_sort = A.argsort()\n",
    "A.mean(axis=0)\n",
    "std = A.std()"
   ]
  },
  {
   "cell_type": "code",
   "execution_count": 23,
   "id": "886d82bf",
   "metadata": {},
   "outputs": [
    {
     "data": {
      "text/plain": [
       "-0.5636214801906779"
      ]
     },
     "execution_count": 23,
     "metadata": {},
     "output_type": "execute_result"
    }
   ],
   "source": [
    "np.corrcoef(A)[0, 1] # ligne, colonne"
   ]
  },
  {
   "cell_type": "code",
   "execution_count": 24,
   "id": "d3d9a009",
   "metadata": {},
   "outputs": [
    {
     "data": {
      "text/plain": [
       "(array([0, 3, 5, 7, 9]), array([1, 2, 1, 1, 1], dtype=int64))"
      ]
     },
     "execution_count": 24,
     "metadata": {},
     "output_type": "execute_result"
    }
   ],
   "source": [
    "np.unique(A, return_counts=True)"
   ]
  },
  {
   "cell_type": "code",
   "execution_count": 30,
   "id": "4f735c23",
   "metadata": {},
   "outputs": [
    {
     "data": {
      "text/plain": [
       "0.5062075424895804"
      ]
     },
     "execution_count": 30,
     "metadata": {},
     "output_type": "execute_result"
    }
   ],
   "source": [
    "np.random.seed(0)\n",
    "A = np.random.randn(5, 5)\n",
    "A[0, 2] = np.nan\n",
    "A[4, 3] = np.nan\n",
    "np.nanmean(A)"
   ]
  },
  {
   "cell_type": "code",
   "execution_count": 51,
   "id": "f21cb9b9",
   "metadata": {},
   "outputs": [],
   "source": [
    "nan = np.isnan(A)"
   ]
  },
  {
   "cell_type": "code",
   "execution_count": 50,
   "id": "a87453bd",
   "metadata": {},
   "outputs": [],
   "source": [
    "A[np.isnan(A)] = np.nanmean(A)"
   ]
  },
  {
   "cell_type": "markdown",
   "id": "790cb0fa",
   "metadata": {},
   "source": [
    "## Algèbre Linéaire"
   ]
  },
  {
   "cell_type": "code",
   "execution_count": 42,
   "id": "ab7d0646",
   "metadata": {},
   "outputs": [],
   "source": [
    "A = np.ones((2, 3))\n",
    "B = np.ones((3, 2))"
   ]
  },
  {
   "cell_type": "code",
   "execution_count": 37,
   "id": "925de194",
   "metadata": {},
   "outputs": [
    {
     "data": {
      "text/plain": [
       "array([[3., 3.],\n",
       "       [3., 3.]])"
      ]
     },
     "execution_count": 37,
     "metadata": {},
     "output_type": "execute_result"
    }
   ],
   "source": [
    "A.dot(B)"
   ]
  },
  {
   "cell_type": "code",
   "execution_count": 49,
   "id": "6de7b442",
   "metadata": {},
   "outputs": [],
   "source": [
    "a = np.linalg.eig(A)"
   ]
  },
  {
   "cell_type": "code",
   "execution_count": null,
   "id": "a84d0324",
   "metadata": {},
   "outputs": [],
   "source": []
  }
 ],
 "metadata": {
  "kernelspec": {
   "display_name": "Python 3 (ipykernel)",
   "language": "python",
   "name": "python3"
  },
  "language_info": {
   "codemirror_mode": {
    "name": "ipython",
    "version": 3
   },
   "file_extension": ".py",
   "mimetype": "text/x-python",
   "name": "python",
   "nbconvert_exporter": "python",
   "pygments_lexer": "ipython3",
   "version": "3.9.13"
  }
 },
 "nbformat": 4,
 "nbformat_minor": 5
}
